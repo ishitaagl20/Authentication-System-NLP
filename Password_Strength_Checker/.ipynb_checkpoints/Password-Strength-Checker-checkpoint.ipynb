{
 "cells": [
  {
   "cell_type": "code",
   "execution_count": 1,
   "id": "8609a11e",
   "metadata": {},
   "outputs": [],
   "source": [
    "import pandas as pd\n",
    "import numpy as np\n",
    "import re\n",
    "from sklearn.model_selection import train_test_split, cross_val_score\n",
    "from sklearn.metrics import classification_report, confusion_matrix\n",
    "from sklearn.feature_extraction.text import TfidfVectorizer\n",
    "from sklearn.ensemble import RandomForestClassifier\n",
    "from sklearn.linear_model import LogisticRegression\n",
    "import xgboost as xgb\n"
   ]
  },
  {
   "cell_type": "code",
   "execution_count": 2,
   "id": "f1d1ad1c",
   "metadata": {},
   "outputs": [
    {
     "data": {
      "text/html": [
       "<div>\n",
       "<style scoped>\n",
       "    .dataframe tbody tr th:only-of-type {\n",
       "        vertical-align: middle;\n",
       "    }\n",
       "\n",
       "    .dataframe tbody tr th {\n",
       "        vertical-align: top;\n",
       "    }\n",
       "\n",
       "    .dataframe thead th {\n",
       "        text-align: right;\n",
       "    }\n",
       "</style>\n",
       "<table border=\"1\" class=\"dataframe\">\n",
       "  <thead>\n",
       "    <tr style=\"text-align: right;\">\n",
       "      <th></th>\n",
       "      <th>password</th>\n",
       "      <th>strength</th>\n",
       "    </tr>\n",
       "  </thead>\n",
       "  <tbody>\n",
       "    <tr>\n",
       "      <th>0</th>\n",
       "      <td>kzde5577</td>\n",
       "      <td>1</td>\n",
       "    </tr>\n",
       "    <tr>\n",
       "      <th>1</th>\n",
       "      <td>kino3434</td>\n",
       "      <td>1</td>\n",
       "    </tr>\n",
       "    <tr>\n",
       "      <th>2</th>\n",
       "      <td>visi7k1yr</td>\n",
       "      <td>1</td>\n",
       "    </tr>\n",
       "    <tr>\n",
       "      <th>3</th>\n",
       "      <td>megzy123</td>\n",
       "      <td>1</td>\n",
       "    </tr>\n",
       "    <tr>\n",
       "      <th>4</th>\n",
       "      <td>lamborghin1</td>\n",
       "      <td>1</td>\n",
       "    </tr>\n",
       "  </tbody>\n",
       "</table>\n",
       "</div>"
      ],
      "text/plain": [
       "      password  strength\n",
       "0     kzde5577         1\n",
       "1     kino3434         1\n",
       "2    visi7k1yr         1\n",
       "3     megzy123         1\n",
       "4  lamborghin1         1"
      ]
     },
     "execution_count": 2,
     "metadata": {},
     "output_type": "execute_result"
    }
   ],
   "source": [
    "file_path = 'data.csv'\n",
    "df = pd.read_csv(file_path, on_bad_lines='skip')\n",
    "\n",
    "df.head()"
   ]
  },
  {
   "cell_type": "code",
   "execution_count": 3,
   "id": "7b24ce98",
   "metadata": {},
   "outputs": [],
   "source": [
    "def feature_creation(df : pd.DataFrame) -> pd.DataFrame:\n",
    "    df['password'] = df['password'].astype(str)\n",
    "    df['length'] = df['password'].apply(len)\n",
    "    df['caps_alpbts'] = df['password'].apply(lambda x : len(re.findall('[A-Z]', x)))/df['length']\n",
    "    df['small_alpbts'] = df['password'].apply(lambda x : len(re.findall('[a-z]', x)))/df['length']\n",
    "    df['num'] = df['password'].apply(lambda x : len(re.findall('[0-9]', x)))/df['length']\n",
    "    df['comon_chars'] = df['password'].apply(lambda x : len(re.findall('[@_!#$%^&*()<>?/\\\\|{ }~:\\\\[\\\\]]', x)))/df['length']\n",
    "    df['unique_chars'] = df['password'].apply(lambda x : len(re.findall('[^a-zA-Z0-9@_!#$%^&*()+-<>?/\\|{ }~:\\\\[\\\\]]', x)))/df['length']\n",
    "    return df\n",
    "\n",
    "df = feature_creation(df)\n",
    "\n",
    "x_temp = np.array(df[\"password\"])\n",
    "y = np.array(df[\"strength\"])"
   ]
  },
  {
   "cell_type": "code",
   "execution_count": 4,
   "id": "a3b01600",
   "metadata": {},
   "outputs": [
    {
     "data": {
      "text/html": [
       "<div>\n",
       "<style scoped>\n",
       "    .dataframe tbody tr th:only-of-type {\n",
       "        vertical-align: middle;\n",
       "    }\n",
       "\n",
       "    .dataframe tbody tr th {\n",
       "        vertical-align: top;\n",
       "    }\n",
       "\n",
       "    .dataframe thead th {\n",
       "        text-align: right;\n",
       "    }\n",
       "</style>\n",
       "<table border=\"1\" class=\"dataframe\">\n",
       "  <thead>\n",
       "    <tr style=\"text-align: right;\">\n",
       "      <th></th>\n",
       "      <th>password</th>\n",
       "      <th>strength</th>\n",
       "      <th>length</th>\n",
       "      <th>caps_alpbts</th>\n",
       "      <th>small_alpbts</th>\n",
       "      <th>num</th>\n",
       "      <th>comon_chars</th>\n",
       "      <th>unique_chars</th>\n",
       "    </tr>\n",
       "  </thead>\n",
       "  <tbody>\n",
       "    <tr>\n",
       "      <th>0</th>\n",
       "      <td>kzde5577</td>\n",
       "      <td>1</td>\n",
       "      <td>8</td>\n",
       "      <td>0.0</td>\n",
       "      <td>0.500000</td>\n",
       "      <td>0.500000</td>\n",
       "      <td>0.0</td>\n",
       "      <td>0.0</td>\n",
       "    </tr>\n",
       "    <tr>\n",
       "      <th>1</th>\n",
       "      <td>kino3434</td>\n",
       "      <td>1</td>\n",
       "      <td>8</td>\n",
       "      <td>0.0</td>\n",
       "      <td>0.500000</td>\n",
       "      <td>0.500000</td>\n",
       "      <td>0.0</td>\n",
       "      <td>0.0</td>\n",
       "    </tr>\n",
       "    <tr>\n",
       "      <th>2</th>\n",
       "      <td>visi7k1yr</td>\n",
       "      <td>1</td>\n",
       "      <td>9</td>\n",
       "      <td>0.0</td>\n",
       "      <td>0.777778</td>\n",
       "      <td>0.222222</td>\n",
       "      <td>0.0</td>\n",
       "      <td>0.0</td>\n",
       "    </tr>\n",
       "    <tr>\n",
       "      <th>3</th>\n",
       "      <td>megzy123</td>\n",
       "      <td>1</td>\n",
       "      <td>8</td>\n",
       "      <td>0.0</td>\n",
       "      <td>0.625000</td>\n",
       "      <td>0.375000</td>\n",
       "      <td>0.0</td>\n",
       "      <td>0.0</td>\n",
       "    </tr>\n",
       "    <tr>\n",
       "      <th>4</th>\n",
       "      <td>lamborghin1</td>\n",
       "      <td>1</td>\n",
       "      <td>11</td>\n",
       "      <td>0.0</td>\n",
       "      <td>0.909091</td>\n",
       "      <td>0.090909</td>\n",
       "      <td>0.0</td>\n",
       "      <td>0.0</td>\n",
       "    </tr>\n",
       "  </tbody>\n",
       "</table>\n",
       "</div>"
      ],
      "text/plain": [
       "      password  strength  length  caps_alpbts  small_alpbts       num  \\\n",
       "0     kzde5577         1       8          0.0      0.500000  0.500000   \n",
       "1     kino3434         1       8          0.0      0.500000  0.500000   \n",
       "2    visi7k1yr         1       9          0.0      0.777778  0.222222   \n",
       "3     megzy123         1       8          0.0      0.625000  0.375000   \n",
       "4  lamborghin1         1      11          0.0      0.909091  0.090909   \n",
       "\n",
       "   comon_chars  unique_chars  \n",
       "0          0.0           0.0  \n",
       "1          0.0           0.0  \n",
       "2          0.0           0.0  \n",
       "3          0.0           0.0  \n",
       "4          0.0           0.0  "
      ]
     },
     "execution_count": 4,
     "metadata": {},
     "output_type": "execute_result"
    }
   ],
   "source": [
    "df.head()"
   ]
  },
  {
   "cell_type": "code",
   "execution_count": 5,
   "id": "aed13b23",
   "metadata": {},
   "outputs": [],
   "source": [
    "tfidf = TfidfVectorizer(analyzer=\"char\", lowercase=False, token_pattern=None)\n",
    "x_temp = tfidf.fit_transform(x_temp).toarray()"
   ]
  },
  {
   "cell_type": "code",
   "execution_count": 6,
   "id": "0d773a29",
   "metadata": {},
   "outputs": [
    {
     "name": "stdout",
     "output_type": "stream",
     "text": [
      "Shape x_temp : (669639, 200)\n",
      "Shape df : (669639, 5)\n"
     ]
    }
   ],
   "source": [
    "print('Shape x_temp :', x_temp.shape)\n",
    "print('Shape df :', df.iloc[:,3:].shape)"
   ]
  },
  {
   "cell_type": "code",
   "execution_count": 7,
   "id": "01cc9ad0",
   "metadata": {},
   "outputs": [
    {
     "data": {
      "text/plain": [
       "(669639, 205)"
      ]
     },
     "execution_count": 7,
     "metadata": {},
     "output_type": "execute_result"
    }
   ],
   "source": [
    "x = np.concatenate((x_temp, df.iloc[:,3:].values), axis=1)\n",
    "x.shape"
   ]
  },
  {
   "cell_type": "code",
   "execution_count": 8,
   "id": "bf115528",
   "metadata": {},
   "outputs": [],
   "source": [
    "feature_names = np.concatenate((tfidf.get_feature_names_out(), df.columns[3:]))"
   ]
  },
  {
   "cell_type": "code",
   "execution_count": 9,
   "id": "1958470c",
   "metadata": {
    "scrolled": false
   },
   "outputs": [],
   "source": [
    "x_train, x_test, y_train, y_test = train_test_split(x, y, test_size=0.2, random_state=0)"
   ]
  },
  {
   "cell_type": "code",
   "execution_count": 10,
   "id": "17ef6819",
   "metadata": {},
   "outputs": [
    {
     "name": "stdout",
     "output_type": "stream",
     "text": [
      "Score of the model is 0.9920852995639448 .\n"
     ]
    }
   ],
   "source": [
    "rf_model = RandomForestClassifier(n_jobs=-1)\n",
    "rf_model.fit(x_train, y_train)\n",
    "print(\"Score of the model is\", rf_model.score(x_test, y_test), \".\")"
   ]
  },
  {
   "cell_type": "code",
   "execution_count": null,
   "id": "0acf3cfa",
   "metadata": {},
   "outputs": [],
   "source": [
    "def extract_features(password: str, tfidf: TfidfVectorizer, feature_names: np.ndarray) -> np.ndarray:\n",
    "    password_tfidf = tfidf.transform([password]).toarray()\n",
    "    length = len(password)\n",
    "    caps_alpbts = len(re.findall('[A-Z]', password)) / length\n",
    "    small_alpbts = len(re.findall('[a-z]', password)) / length\n",
    "    num = len(re.findall('[0-9]', password)) / length\n",
    "    comon_chars = len(re.findall('[@_!#$%^&*()<>?/\\\\|{ }~:\\\\[\\\\]]', password)) / length\n",
    "    unique_chars = len(re.findall('[^a-zA-Z0-9@_!#$%^&*()+-<>?/\\|{ }~:\\\\[\\\\]]', password)) / length\n",
    "    additional_features = np.array([[length, caps_alpbts, small_alpbts, num, comon_chars, unique_chars]])\n",
    "    features = np.concatenate([password_tfidf, additional_features], axis=1)\n",
    "    return features\n",
    "\n",
    "def predict_strength(password: str, model: RandomForestClassifier, tfidf: TfidfVectorizer, feature_names: np.ndarray) -> int:\n",
    "    features = extract_features(password, tfidf, feature_names)\n",
    "    strength_prediction = model.predict(features)\n",
    "    return strength_prediction[0]\n",
    "\n",
    "# Example usage\n",
    "random_password = \"YourPassword123!\"\n",
    "predicted_strength = predict_strength(random_password, rf_model, tfidf, feature_names)\n",
    "print(f\"The predicted strength for the password '{random_password}' is:\", predicted_strength)"
   ]
  },
  {
   "cell_type": "code",
   "execution_count": null,
   "id": "2153a739",
   "metadata": {},
   "outputs": [],
   "source": []
  }
 ],
 "metadata": {
  "kernelspec": {
   "display_name": "Python 3 (ipykernel)",
   "language": "python",
   "name": "python3"
  },
  "language_info": {
   "codemirror_mode": {
    "name": "ipython",
    "version": 3
   },
   "file_extension": ".py",
   "mimetype": "text/x-python",
   "name": "python",
   "nbconvert_exporter": "python",
   "pygments_lexer": "ipython3",
   "version": "3.9.13"
  }
 },
 "nbformat": 4,
 "nbformat_minor": 5
}
